{
  "cells": [
    {
      "cell_type": "markdown",
      "source": [
        "Instructions\n",
        "\n",
        "Cow: one of digits is matching but not in right position.\n",
        "\n",
        "Bull: one of digits is rightly placed.\n",
        "\n",
        "Enter a number without repetion of digits and without use of 0 zero\n"
      ],
      "metadata": {
        "id": "FtS01qc_EwXV"
      }
    },
    {
      "cell_type": "code",
      "execution_count": null,
      "metadata": {
        "id": "3PiT2yjI_XGW",
        "colab": {
          "base_uri": "https://localhost:8080/"
        },
        "outputId": "a4a161b5-802b-4a60-b751-58dc83ae91a1"
      },
      "outputs": [
        {
          "output_type": "stream",
          "name": "stdout",
          "text": [
            "enter a three digit number: 258\n",
            "0\n",
            "2\n",
            "cows:  2 bull:  0 attempts:  1\n",
            "enter a three digit number: 146\n",
            "0\n",
            "0\n",
            "cows:  0 bull:  0 attempts:  2\n",
            "enter a three digit number: 379\n",
            "0\n",
            "1\n",
            "cows:  1 bull:  0 attempts:  3\n",
            "enter a three digit number: 259\n",
            "0\n",
            "1\n",
            "cows:  1 bull:  0 attempts:  4\n",
            "enter a three digit number: 874\n",
            "1\n",
            "1\n",
            "cows:  1 bull:  1 attempts:  5\n",
            "enter a three digit number: 278\n",
            "0\n",
            "3\n",
            "cows:  3 bull:  0 attempts:  6\n",
            "enter a three digit number: 827\n",
            "3\n",
            "0\n",
            "cows:  0 bull:  3 attempts:  7\n"
          ]
        }
      ],
      "source": [
        "#@title Your Title\n",
        "import random\n",
        "\n",
        "def digits(i):\n",
        "    listem=[]\n",
        "    r=i\n",
        "    a=i%10\n",
        "    i=(i-a)/10\n",
        "    b=i%10\n",
        "    i=(i-b)/10\n",
        "    c=(i)%10\n",
        "    listem.append(c)\n",
        "    listem.append(a)\n",
        "    listem.append(b)\n",
        "    return listem\n",
        "\n",
        "list1=[]\n",
        "p=0\n",
        "a=1\n",
        "at=0\n",
        "\n",
        "for i in range(123,988):\n",
        "    r=i\n",
        "    a=i%10\n",
        "    i=(i-a)/10\n",
        "    b=i%10\n",
        "    i=(i-b)/10\n",
        "    c=(i)%10\n",
        "    if (a==b or b==c or c==a or a==0 or b==0 or c==0):\n",
        "        p=1\n",
        "    else:\n",
        "        list1.append(r)\n",
        "num=random.choice(list1)\n",
        "while(p):\n",
        "    at+=1\n",
        "    count=0\n",
        "    c=0\n",
        "    bull=0\n",
        "    guess= int(input(\"enter a three digit number: \"))\n",
        "    guessdig = digits(guess)\n",
        "    numdig = digits(num)\n",
        "    #print(numdig)\n",
        "    for a in range(3):\n",
        "        if guessdig[a]==numdig[a]:\n",
        "            bull+=1\n",
        "    print(bull)\n",
        "    for c in range(3):\n",
        "        for i in range(3):\n",
        "            if c!=i :\n",
        "                if numdig[c]==guessdig[i]:\n",
        "                    count+=1\n",
        "    print(count)\n",
        "    if bull==3:\n",
        "        p=0\n",
        "        break\n",
        "    print(\"cows: \",count,\"bull: \",bull,\"attempts: \",at)\n",
        "print(\"cows: \",count,\"bull: \",bull,\"attempts: \",at)"
      ]
    }
  ],
  "metadata": {
    "colab": {
      "provenance": []
    },
    "kernelspec": {
      "display_name": "Python 3",
      "name": "python3"
    },
    "language_info": {
      "name": "python"
    }
  },
  "nbformat": 4,
  "nbformat_minor": 0
}